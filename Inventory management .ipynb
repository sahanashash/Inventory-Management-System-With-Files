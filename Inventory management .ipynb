{
 "cells": [
  {
   "cell_type": "code",
   "execution_count": 12,
   "id": "8f3b6c75-2aa2-4648-923d-21559f3a40f5",
   "metadata": {},
   "outputs": [
    {
     "name": "stdout",
     "output_type": "stream",
     "text": [
      "1,5 Star,5,100\n",
      "2,Milky Bar,5,100\n",
      "3,Cake,300,5\n",
      "4,Candy,1,200\n"
     ]
    }
   ],
   "source": [
    "for i in products:\n",
    "    print(i)"
   ]
  },
  {
   "cell_type": "code",
   "execution_count": null,
   "id": "d983c173-d57b-4e46-954a-0883906cc254",
   "metadata": {},
   "outputs": [
    {
     "name": "stdin",
     "output_type": "stream",
     "text": [
      "Enter your Name:  rakshitha\n",
      "Enter your Phone No:  5638826389\n",
      "Enter your Mail:  rakshu@gmail.com\n",
      "Enter product ID:  1\n",
      "Enter product Quantity:  1\n"
     ]
    },
    {
     "name": "stdout",
     "output_type": "stream",
     "text": [
      "Sorry, We're not having enough quantity?\n",
      "We're having only 0 quantity.\n",
      "Would you like to purchase it?\n"
     ]
    }
   ],
   "source": [
    "import time\n",
    "\n",
    "### Reading the Inventory\n",
    "fd=open('Inventory.txt','r')\n",
    "products = fd.read().split('\\n')\n",
    "fd.close()\n",
    "\n",
    "# Tailing User Input\n",
    "ui_username = input(\"Enter your Name: \")\n",
    "ui_phone = input(\"Enter your Phone No: \")\n",
    "ui_mail  = input(\"Enter your Mail: \")\n",
    "ui_prod_id = input(\"Enter product ID: \")\n",
    "ui_prod_qn = input(\"Enter product Quantity: \")\n",
    "\n",
    "updated_product_lst = []\n",
    "\n",
    "#Going through each product detail\n",
    "for product in products:\n",
    "\n",
    "    prod_details = product.split(',')\n",
    "    if(prod_details[0] == ui_prod_id):\n",
    "    # Checking if product exists or not\n",
    "        if(int(ui_prod_qn) <= int(prod_details[3])):\n",
    "        # if we're having enough quantity\n",
    "            print(\"--------------------------------------------\")\n",
    "            print(\"Product Name     :\", prod_details[1])\n",
    "            print(\"Price            :\", prod_details[2])\n",
    "            print(\"Quantity         :\", ui_prod_qn)\n",
    "            print(\"--------------------------------------------\")\n",
    "            print(\"Billing Amount   :\", int(ui_prod_qn) * int(prod_details[2]))\n",
    "            print(\"--------------------------------------------\")\n",
    "\n",
    "            #Updating Inventory list\n",
    "            prod_details[3] = str(int(prod_details[3]) - int(ui_prod_qn))\n",
    "\n",
    "            # Generating Sales in Sales.txt\n",
    "            fd = open(\"Sales.txt\",'a')\n",
    "            sales_detail = ui_username +\",\"+ ui_phone +\",\"+ ui_mail +\",\"+prod_details[1] +\",\"+ ui_prod_id +\",\"+ ui_prod_qn +\",\"+ str(int(ui_prod_qn) * int(prod_details[2]))+\",\"+time.ctime()+\"\\n\"\n",
    "            fd.write(sales_detail)\n",
    "            fd.close()\n",
    "        else:\n",
    "        # if we're having enough quantity\n",
    "            print(\"Sorry, We're not having enough quantity?\")\n",
    "            print(\"We're having only\" ,prod_details[3], 'quantity.')\n",
    "            print(\"Would you like to purchase it?\")\n",
    "\n",
    "            ch = input(\"Press Y/N:\")\n",
    "            if (ch == 'Y' or ch == 'y'):\n",
    "            # If you want to purchase with remaining quantity\n",
    "                \n",
    "                print(\"--------------------------------------------\")\n",
    "                print(\"Product Name     :\", prod_details[1])\n",
    "                print(\"Price            :\", prod_details[2])\n",
    "                print(\"Quantity         :\", prod_details[3])\n",
    "                print(\"--------------------------------------------\")\n",
    "                print(\"Billing Amount   :\", int(prod_details[3]) * int(prod_details[2]))\n",
    "                print(\"--------------------------------------------\")\n",
    "    \n",
    "                prod_details[3] = '0'\n",
    "\n",
    "            else:\n",
    "                print(\"Thanks\")\n",
    "\n",
    "     # Updating my Inventory List           \n",
    "    updated_product_lst.append(prod_details)\n",
    "\n",
    "\n",
    "lst = []\n",
    "\n",
    "#Updating my Inventory String\n",
    "for i in updated_product_lst:\n",
    "    if len(i)>=4:\n",
    "    \n",
    "        prod = i[0] +\",\"+ i[1] +\",\"+ i[2] +\",\"+ i[3] + '\\n'\n",
    "        lst.append(prod)\n",
    "       \n",
    "lst[-1] = lst[-1][:-1]\n",
    "\n",
    "#Updating Inventory File\n",
    "fd = open('Inventory.txt' , 'w') \n",
    "\n",
    "for i in lst:\n",
    "    fd.write(i)\n",
    "    \n",
    "fd.close()\n",
    "\n",
    "print('')\n",
    "print(\"------------------------------------------\")\n",
    "print(\"Thanks for your order, Inventory updated! \")\n",
    "print(\"------------------------------------------\")"
   ]
  },
  {
   "cell_type": "code",
   "execution_count": null,
   "id": "be46e337-2fd3-4469-9ea3-21e3c49c1d5a",
   "metadata": {},
   "outputs": [],
   "source": []
  }
 ],
 "metadata": {
  "kernelspec": {
   "display_name": "Python 3 (ipykernel)",
   "language": "python",
   "name": "python3"
  },
  "language_info": {
   "codemirror_mode": {
    "name": "ipython",
    "version": 3
   },
   "file_extension": ".py",
   "mimetype": "text/x-python",
   "name": "python",
   "nbconvert_exporter": "python",
   "pygments_lexer": "ipython3",
   "version": "3.12.7"
  }
 },
 "nbformat": 4,
 "nbformat_minor": 5
}
